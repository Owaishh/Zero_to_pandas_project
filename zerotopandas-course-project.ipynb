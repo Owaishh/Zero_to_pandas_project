{
 "cells": [
  {
   "cell_type": "markdown",
   "metadata": {},
   "source": [
    "# Sales Data Analysis\n",
    "\n",
    "This huge data is about sales of different accessories throughout the whole year of 2019. In this project, We will know about differents trends and Visualisation data is showing and then on that basis we will make data driven decisions. Moreover we will use different functions to clean the data as far as possible because cleaned data will be more efficient for our analysis and moreover we will see that python or more precisely Jupyter Notebook is the only tool with which we can use in place of SQL or spreadsheets. So let's begin this adventure !!!!"
   ]
  },
  {
   "cell_type": "markdown",
   "metadata": {},
   "source": [
    "### How to run the code\n",
    "\n",
    "This is an executable [*Jupyter notebook*](https://jupyter.org) hosted on [Jovian.ml](https://www.jovian.ml), a platform for sharing data science projects. You can run and experiment with the code in a couple of ways: *using free online resources* (recommended) or *on your own computer*.\n",
    "\n",
    "#### Option 1: Running using free online resources (1-click, recommended)\n",
    "\n",
    "The easiest way to start executing this notebook is to click the \"Run\" button at the top of this page, and select \"Run on Binder\". This will run the notebook on [mybinder.org](https://mybinder.org), a free online service for running Jupyter notebooks. You can also select \"Run on Colab\" or \"Run on Kaggle\".\n",
    "\n",
    "\n",
    "#### Option 2: Running on your computer locally\n",
    "\n",
    "1. Install Conda by [following these instructions](https://conda.io/projects/conda/en/latest/user-guide/install/index.html). Add Conda binaries to your system `PATH`, so you can use the `conda` command on your terminal.\n",
    "\n",
    "2. Create a Conda environment and install the required libraries by running these commands on the terminal:\n",
    "\n",
    "```\n",
    "conda create -n zerotopandas -y python=3.8 \n",
    "conda activate zerotopandas\n",
    "pip install jovian jupyter numpy pandas matplotlib seaborn opendatasets --upgrade\n",
    "```\n",
    "\n",
    "3. Press the \"Clone\" button above to copy the command for downloading the notebook, and run it on the terminal. This will create a new directory and download the notebook. The command will look something like this:\n",
    "\n",
    "```\n",
    "jovian clone notebook-owner/notebook-id\n",
    "```\n",
    "\n",
    "\n",
    "\n",
    "4. Enter the newly created directory using `cd directory-name` and start the Jupyter notebook.\n",
    "\n",
    "```\n",
    "jupyter notebook\n",
    "```\n",
    "\n",
    "You can now access Jupyter's web interface by clicking the link that shows up on the terminal or by visiting http://localhost:8888 on your browser. Click on the notebook file (it has a `.ipynb` extension) to open it.\n"
   ]
  },
  {
   "cell_type": "markdown",
   "metadata": {},
   "source": [
    "## Downloading the Dataset\n",
    "\n",
    "**TODO** - add some explanation here"
   ]
  },
  {
   "cell_type": "code",
   "execution_count": 8,
   "metadata": {},
   "outputs": [],
   "source": [
    "!pip install jovian opendatasets --upgrade --quiet"
   ]
  },
  {
   "cell_type": "markdown",
   "metadata": {},
   "source": [
    "Let's begin by downloading the data, and listing the files within the dataset."
   ]
  },
  {
   "cell_type": "code",
   "execution_count": 6,
   "metadata": {},
   "outputs": [],
   "source": [
    "# Change this\n",
    "dataset_url = 'https://www.kaggle.com/tunguz/us-elections-dataset' "
   ]
  },
  {
   "cell_type": "code",
   "execution_count": 15,
   "metadata": {},
   "outputs": [
    {
     "name": "stdout",
     "output_type": "stream",
     "text": [
      "Kaggle dataset ID:  tunguz/us-elections-dataset\n"
     ]
    },
    {
     "name": "stderr",
     "output_type": "stream",
     "text": [
      "0it [00:00, ?it/s]"
     ]
    },
    {
     "name": "stdout",
     "output_type": "stream",
     "text": [
      "Downloading https://www.kaggle.com/tunguz/us-elections-dataset/download?resource=download&downloadHash=7ba6986e70e4d0e9f17ef767bfef5a5fc294114a206832fd436474dafb200649 to ./us-elections-dataset.zip\n"
     ]
    },
    {
     "name": "stderr",
     "output_type": "stream",
     "text": [
      "37806080it [00:03, 12417556.13it/s]                              \n"
     ]
    },
    {
     "name": "stdout",
     "output_type": "stream",
     "text": [
      "Extracting archive ./us-elections-dataset.zip to ./us-elections-dataset\n"
     ]
    }
   ],
   "source": [
    "import opendatasets as od\n",
    "od.download(dataset_url)"
   ]
  },
  {
   "cell_type": "markdown",
   "metadata": {},
   "source": [
    "The dataset has been downloaded and extracted."
   ]
  },
  {
   "cell_type": "code",
   "execution_count": 1,
   "metadata": {},
   "outputs": [
    {
     "data": {
      "text/plain": [
       "['.bash_logout',\n",
       " '.profile',\n",
       " '.bashrc',\n",
       " '.ipynb_checkpoints',\n",
       " '.ipython',\n",
       " '.local',\n",
       " '.cache',\n",
       " 'zerotopandas-course-project.ipynb',\n",
       " 'sales_data.csv',\n",
       " '.jupyter',\n",
       " '.jovian',\n",
       " '.config',\n",
       " '.conda',\n",
       " '.wget-hsts',\n",
       " '.jovianrc',\n",
       " '.git',\n",
       " 'work',\n",
       " '.npm']"
      ]
     },
     "execution_count": 1,
     "metadata": {},
     "output_type": "execute_result"
    }
   ],
   "source": [
    "import os\n",
    "os.listdir()"
   ]
  },
  {
   "cell_type": "markdown",
   "metadata": {},
   "source": [
    "Let us save and upload our work to Jovian before continuing."
   ]
  },
  {
   "cell_type": "code",
   "execution_count": 2,
   "metadata": {},
   "outputs": [],
   "source": [
    "project_name = \"sales_data_analysis\" # change this (use lowercase letters and hyphens only)"
   ]
  },
  {
   "cell_type": "code",
   "execution_count": 3,
   "metadata": {},
   "outputs": [],
   "source": [
    "!pip install jovian --upgrade -q"
   ]
  },
  {
   "cell_type": "code",
   "execution_count": 4,
   "metadata": {},
   "outputs": [
    {
     "data": {
      "application/javascript": [
       "if (window.IPython && IPython.notebook.kernel) IPython.notebook.kernel.execute('jovian.utils.jupyter.get_notebook_name_saved = lambda: \"' + IPython.notebook.notebook_name + '\"')"
      ],
      "text/plain": [
       "<IPython.core.display.Javascript object>"
      ]
     },
     "metadata": {},
     "output_type": "display_data"
    }
   ],
   "source": [
    "import jovian"
   ]
  },
  {
   "cell_type": "code",
   "execution_count": null,
   "metadata": {},
   "outputs": [
    {
     "data": {
      "application/javascript": [
       "window.require && require([\"base/js/namespace\"],function(Jupyter){Jupyter.notebook.save_checkpoint()})"
      ],
      "text/plain": [
       "<IPython.core.display.Javascript object>"
      ]
     },
     "metadata": {},
     "output_type": "display_data"
    }
   ],
   "source": [
    "jovian.commit(project=project_name)"
   ]
  },
  {
   "cell_type": "markdown",
   "metadata": {},
   "source": [
    "## Data Preparation and Cleaning\n",
    "\n",
    "**TODO** - Here we will clean all the useless data that could create chaos and bias in our data driven decision \n",
    "\n"
   ]
  },
  {
   "cell_type": "code",
   "execution_count": 2,
   "metadata": {},
   "outputs": [],
   "source": [
    "import os\n",
    "import pandas as pd"
   ]
  },
  {
   "cell_type": "code",
   "execution_count": 3,
   "metadata": {},
   "outputs": [
    {
     "data": {
      "text/html": [
       "<div>\n",
       "<style scoped>\n",
       "    .dataframe tbody tr th:only-of-type {\n",
       "        vertical-align: middle;\n",
       "    }\n",
       "\n",
       "    .dataframe tbody tr th {\n",
       "        vertical-align: top;\n",
       "    }\n",
       "\n",
       "    .dataframe thead th {\n",
       "        text-align: right;\n",
       "    }\n",
       "</style>\n",
       "<table border=\"1\" class=\"dataframe\">\n",
       "  <thead>\n",
       "    <tr style=\"text-align: right;\">\n",
       "      <th></th>\n",
       "      <th>Order ID</th>\n",
       "      <th>Product</th>\n",
       "      <th>Quantity Ordered</th>\n",
       "      <th>Price Each</th>\n",
       "      <th>Order Date</th>\n",
       "      <th>Purchase Address</th>\n",
       "    </tr>\n",
       "  </thead>\n",
       "  <tbody>\n",
       "    <tr>\n",
       "      <th>0</th>\n",
       "      <td>194095</td>\n",
       "      <td>Wired Headphones</td>\n",
       "      <td>1</td>\n",
       "      <td>11.99</td>\n",
       "      <td>05/16/19 17:14</td>\n",
       "      <td>669 2nd St, New York City, NY 10001</td>\n",
       "    </tr>\n",
       "    <tr>\n",
       "      <th>1</th>\n",
       "      <td>194096</td>\n",
       "      <td>AA Batteries (4-pack)</td>\n",
       "      <td>1</td>\n",
       "      <td>3.84</td>\n",
       "      <td>05/19/19 14:43</td>\n",
       "      <td>844 Walnut St, Dallas, TX 75001</td>\n",
       "    </tr>\n",
       "    <tr>\n",
       "      <th>2</th>\n",
       "      <td>194097</td>\n",
       "      <td>27in FHD Monitor</td>\n",
       "      <td>1</td>\n",
       "      <td>149.99</td>\n",
       "      <td>05/24/19 11:36</td>\n",
       "      <td>164 Madison St, New York City, NY 10001</td>\n",
       "    </tr>\n",
       "    <tr>\n",
       "      <th>3</th>\n",
       "      <td>194098</td>\n",
       "      <td>Wired Headphones</td>\n",
       "      <td>1</td>\n",
       "      <td>11.99</td>\n",
       "      <td>05/02/19 20:40</td>\n",
       "      <td>622 Meadow St, Dallas, TX 75001</td>\n",
       "    </tr>\n",
       "    <tr>\n",
       "      <th>4</th>\n",
       "      <td>194099</td>\n",
       "      <td>AAA Batteries (4-pack)</td>\n",
       "      <td>2</td>\n",
       "      <td>2.99</td>\n",
       "      <td>05/11/19 22:55</td>\n",
       "      <td>17 Church St, Seattle, WA 98101</td>\n",
       "    </tr>\n",
       "    <tr>\n",
       "      <th>5</th>\n",
       "      <td>194100</td>\n",
       "      <td>iPhone</td>\n",
       "      <td>1</td>\n",
       "      <td>700.0</td>\n",
       "      <td>05/10/19 19:44</td>\n",
       "      <td>81 Jefferson St, San Francisco, CA 94016</td>\n",
       "    </tr>\n",
       "    <tr>\n",
       "      <th>6</th>\n",
       "      <td>194101</td>\n",
       "      <td>USB-C Charging Cable</td>\n",
       "      <td>1</td>\n",
       "      <td>11.95</td>\n",
       "      <td>05/11/19 22:44</td>\n",
       "      <td>354 Meadow St, Boston, MA 02215</td>\n",
       "    </tr>\n",
       "  </tbody>\n",
       "</table>\n",
       "</div>"
      ],
      "text/plain": [
       "  Order ID                 Product Quantity Ordered Price Each  \\\n",
       "0   194095        Wired Headphones                1      11.99   \n",
       "1   194096   AA Batteries (4-pack)                1       3.84   \n",
       "2   194097        27in FHD Monitor                1     149.99   \n",
       "3   194098        Wired Headphones                1      11.99   \n",
       "4   194099  AAA Batteries (4-pack)                2       2.99   \n",
       "5   194100                  iPhone                1      700.0   \n",
       "6   194101    USB-C Charging Cable                1      11.95   \n",
       "\n",
       "       Order Date                          Purchase Address  \n",
       "0  05/16/19 17:14       669 2nd St, New York City, NY 10001  \n",
       "1  05/19/19 14:43           844 Walnut St, Dallas, TX 75001  \n",
       "2  05/24/19 11:36   164 Madison St, New York City, NY 10001  \n",
       "3  05/02/19 20:40           622 Meadow St, Dallas, TX 75001  \n",
       "4  05/11/19 22:55           17 Church St, Seattle, WA 98101  \n",
       "5  05/10/19 19:44  81 Jefferson St, San Francisco, CA 94016  \n",
       "6  05/11/19 22:44           354 Meadow St, Boston, MA 02215  "
      ]
     },
     "execution_count": 3,
     "metadata": {},
     "output_type": "execute_result"
    }
   ],
   "source": [
    "sales_data = pd.read_csv(\"sales_data.csv\")\n",
    "sales_data.head(7)"
   ]
  },
  {
   "cell_type": "code",
   "execution_count": 123,
   "metadata": {
    "scrolled": true
   },
   "outputs": [
    {
     "data": {
      "text/html": [
       "<div>\n",
       "<style scoped>\n",
       "    .dataframe tbody tr th:only-of-type {\n",
       "        vertical-align: middle;\n",
       "    }\n",
       "\n",
       "    .dataframe tbody tr th {\n",
       "        vertical-align: top;\n",
       "    }\n",
       "\n",
       "    .dataframe thead th {\n",
       "        text-align: right;\n",
       "    }\n",
       "</style>\n",
       "<table border=\"1\" class=\"dataframe\">\n",
       "  <thead>\n",
       "    <tr style=\"text-align: right;\">\n",
       "      <th></th>\n",
       "      <th>Order ID</th>\n",
       "      <th>Product</th>\n",
       "      <th>Quantity Ordered</th>\n",
       "      <th>Price Each</th>\n",
       "      <th>Order Date</th>\n",
       "      <th>Purchase Address</th>\n",
       "    </tr>\n",
       "  </thead>\n",
       "  <tbody>\n",
       "    <tr>\n",
       "      <th>58</th>\n",
       "      <td>NaN</td>\n",
       "      <td>NaN</td>\n",
       "      <td>NaN</td>\n",
       "      <td>NaN</td>\n",
       "      <td>NaN</td>\n",
       "      <td>NaN</td>\n",
       "    </tr>\n",
       "    <tr>\n",
       "      <th>111</th>\n",
       "      <td>NaN</td>\n",
       "      <td>NaN</td>\n",
       "      <td>NaN</td>\n",
       "      <td>NaN</td>\n",
       "      <td>NaN</td>\n",
       "      <td>NaN</td>\n",
       "    </tr>\n",
       "    <tr>\n",
       "      <th>522</th>\n",
       "      <td>NaN</td>\n",
       "      <td>NaN</td>\n",
       "      <td>NaN</td>\n",
       "      <td>NaN</td>\n",
       "      <td>NaN</td>\n",
       "      <td>NaN</td>\n",
       "    </tr>\n",
       "    <tr>\n",
       "      <th>839</th>\n",
       "      <td>NaN</td>\n",
       "      <td>NaN</td>\n",
       "      <td>NaN</td>\n",
       "      <td>NaN</td>\n",
       "      <td>NaN</td>\n",
       "      <td>NaN</td>\n",
       "    </tr>\n",
       "    <tr>\n",
       "      <th>1590</th>\n",
       "      <td>NaN</td>\n",
       "      <td>NaN</td>\n",
       "      <td>NaN</td>\n",
       "      <td>NaN</td>\n",
       "      <td>NaN</td>\n",
       "      <td>NaN</td>\n",
       "    </tr>\n",
       "  </tbody>\n",
       "</table>\n",
       "</div>"
      ],
      "text/plain": [
       "     Order ID Product Quantity Ordered Price Each Order Date Purchase Address\n",
       "58        NaN     NaN              NaN        NaN        NaN              NaN\n",
       "111       NaN     NaN              NaN        NaN        NaN              NaN\n",
       "522       NaN     NaN              NaN        NaN        NaN              NaN\n",
       "839       NaN     NaN              NaN        NaN        NaN              NaN\n",
       "1590      NaN     NaN              NaN        NaN        NaN              NaN"
      ]
     },
     "metadata": {},
     "output_type": "display_data"
    },
    {
     "data": {
      "text/html": [
       "<div>\n",
       "<style scoped>\n",
       "    .dataframe tbody tr th:only-of-type {\n",
       "        vertical-align: middle;\n",
       "    }\n",
       "\n",
       "    .dataframe tbody tr th {\n",
       "        vertical-align: top;\n",
       "    }\n",
       "\n",
       "    .dataframe thead th {\n",
       "        text-align: right;\n",
       "    }\n",
       "</style>\n",
       "<table border=\"1\" class=\"dataframe\">\n",
       "  <thead>\n",
       "    <tr style=\"text-align: right;\">\n",
       "      <th></th>\n",
       "      <th>Order ID</th>\n",
       "      <th>Product</th>\n",
       "      <th>Quantity Ordered</th>\n",
       "      <th>Price Each</th>\n",
       "      <th>Order Date</th>\n",
       "      <th>Purchase Address</th>\n",
       "    </tr>\n",
       "  </thead>\n",
       "  <tbody>\n",
       "    <tr>\n",
       "      <th>0</th>\n",
       "      <td>194095</td>\n",
       "      <td>Wired Headphones</td>\n",
       "      <td>1</td>\n",
       "      <td>11.99</td>\n",
       "      <td>05/16/19 17:14</td>\n",
       "      <td>669 2nd St, New York City, NY 10001</td>\n",
       "    </tr>\n",
       "    <tr>\n",
       "      <th>1</th>\n",
       "      <td>194096</td>\n",
       "      <td>AA Batteries (4-pack)</td>\n",
       "      <td>1</td>\n",
       "      <td>3.84</td>\n",
       "      <td>05/19/19 14:43</td>\n",
       "      <td>844 Walnut St, Dallas, TX 75001</td>\n",
       "    </tr>\n",
       "    <tr>\n",
       "      <th>2</th>\n",
       "      <td>194097</td>\n",
       "      <td>27in FHD Monitor</td>\n",
       "      <td>1</td>\n",
       "      <td>149.99</td>\n",
       "      <td>05/24/19 11:36</td>\n",
       "      <td>164 Madison St, New York City, NY 10001</td>\n",
       "    </tr>\n",
       "    <tr>\n",
       "      <th>3</th>\n",
       "      <td>194098</td>\n",
       "      <td>Wired Headphones</td>\n",
       "      <td>1</td>\n",
       "      <td>11.99</td>\n",
       "      <td>05/02/19 20:40</td>\n",
       "      <td>622 Meadow St, Dallas, TX 75001</td>\n",
       "    </tr>\n",
       "    <tr>\n",
       "      <th>4</th>\n",
       "      <td>194099</td>\n",
       "      <td>AAA Batteries (4-pack)</td>\n",
       "      <td>2</td>\n",
       "      <td>2.99</td>\n",
       "      <td>05/11/19 22:55</td>\n",
       "      <td>17 Church St, Seattle, WA 98101</td>\n",
       "    </tr>\n",
       "  </tbody>\n",
       "</table>\n",
       "</div>"
      ],
      "text/plain": [
       "  Order ID                 Product Quantity Ordered Price Each  \\\n",
       "0   194095        Wired Headphones                1      11.99   \n",
       "1   194096   AA Batteries (4-pack)                1       3.84   \n",
       "2   194097        27in FHD Monitor                1     149.99   \n",
       "3   194098        Wired Headphones                1      11.99   \n",
       "4   194099  AAA Batteries (4-pack)                2       2.99   \n",
       "\n",
       "       Order Date                         Purchase Address  \n",
       "0  05/16/19 17:14      669 2nd St, New York City, NY 10001  \n",
       "1  05/19/19 14:43          844 Walnut St, Dallas, TX 75001  \n",
       "2  05/24/19 11:36  164 Madison St, New York City, NY 10001  \n",
       "3  05/02/19 20:40          622 Meadow St, Dallas, TX 75001  \n",
       "4  05/11/19 22:55          17 Church St, Seattle, WA 98101  "
      ]
     },
     "execution_count": 123,
     "metadata": {},
     "output_type": "execute_result"
    }
   ],
   "source": [
    "#Clean up the data!\n",
    "#Drop rows of NAN\n",
    "# Find NAN\n",
    "nan_df = sales_data[sales_data.isna().any(axis=1)]\n",
    "display(nan_df.head())\n",
    "\n",
    "sales_data = sales_data.dropna(how='all')\n",
    "sales_data.head()"
   ]
  },
  {
   "cell_type": "code",
   "execution_count": 124,
   "metadata": {},
   "outputs": [],
   "source": [
    "#Delete useless Text in Order Date Column\n",
    "sales_data = sales_data[sales_data['Order Date'].str[0:2]!='Or']"
   ]
  },
  {
   "cell_type": "code",
   "execution_count": 125,
   "metadata": {},
   "outputs": [],
   "source": [
    "#Set Correct Data Types\n",
    "sales_data['Quantity Ordered'] = pd.to_numeric(sales_data['Quantity Ordered'])\n",
    "sales_data['Price Each'] = pd.to_numeric(sales_data['Price Each'])"
   ]
  },
  {
   "cell_type": "code",
   "execution_count": 126,
   "metadata": {},
   "outputs": [
    {
     "data": {
      "text/html": [
       "<div>\n",
       "<style scoped>\n",
       "    .dataframe tbody tr th:only-of-type {\n",
       "        vertical-align: middle;\n",
       "    }\n",
       "\n",
       "    .dataframe tbody tr th {\n",
       "        vertical-align: top;\n",
       "    }\n",
       "\n",
       "    .dataframe thead th {\n",
       "        text-align: right;\n",
       "    }\n",
       "</style>\n",
       "<table border=\"1\" class=\"dataframe\">\n",
       "  <thead>\n",
       "    <tr style=\"text-align: right;\">\n",
       "      <th></th>\n",
       "      <th>Order ID</th>\n",
       "      <th>Product</th>\n",
       "      <th>Quantity Ordered</th>\n",
       "      <th>Price Each</th>\n",
       "      <th>Order Date</th>\n",
       "      <th>Purchase Address</th>\n",
       "      <th>Month</th>\n",
       "    </tr>\n",
       "  </thead>\n",
       "  <tbody>\n",
       "    <tr>\n",
       "      <th>0</th>\n",
       "      <td>194095</td>\n",
       "      <td>Wired Headphones</td>\n",
       "      <td>1</td>\n",
       "      <td>11.99</td>\n",
       "      <td>05/16/19 17:14</td>\n",
       "      <td>669 2nd St, New York City, NY 10001</td>\n",
       "      <td>5</td>\n",
       "    </tr>\n",
       "    <tr>\n",
       "      <th>1</th>\n",
       "      <td>194096</td>\n",
       "      <td>AA Batteries (4-pack)</td>\n",
       "      <td>1</td>\n",
       "      <td>3.84</td>\n",
       "      <td>05/19/19 14:43</td>\n",
       "      <td>844 Walnut St, Dallas, TX 75001</td>\n",
       "      <td>5</td>\n",
       "    </tr>\n",
       "    <tr>\n",
       "      <th>2</th>\n",
       "      <td>194097</td>\n",
       "      <td>27in FHD Monitor</td>\n",
       "      <td>1</td>\n",
       "      <td>149.99</td>\n",
       "      <td>05/24/19 11:36</td>\n",
       "      <td>164 Madison St, New York City, NY 10001</td>\n",
       "      <td>5</td>\n",
       "    </tr>\n",
       "    <tr>\n",
       "      <th>3</th>\n",
       "      <td>194098</td>\n",
       "      <td>Wired Headphones</td>\n",
       "      <td>1</td>\n",
       "      <td>11.99</td>\n",
       "      <td>05/02/19 20:40</td>\n",
       "      <td>622 Meadow St, Dallas, TX 75001</td>\n",
       "      <td>5</td>\n",
       "    </tr>\n",
       "    <tr>\n",
       "      <th>4</th>\n",
       "      <td>194099</td>\n",
       "      <td>AAA Batteries (4-pack)</td>\n",
       "      <td>2</td>\n",
       "      <td>2.99</td>\n",
       "      <td>05/11/19 22:55</td>\n",
       "      <td>17 Church St, Seattle, WA 98101</td>\n",
       "      <td>5</td>\n",
       "    </tr>\n",
       "  </tbody>\n",
       "</table>\n",
       "</div>"
      ],
      "text/plain": [
       "  Order ID                 Product  Quantity Ordered  Price Each  \\\n",
       "0   194095        Wired Headphones                 1       11.99   \n",
       "1   194096   AA Batteries (4-pack)                 1        3.84   \n",
       "2   194097        27in FHD Monitor                 1      149.99   \n",
       "3   194098        Wired Headphones                 1       11.99   \n",
       "4   194099  AAA Batteries (4-pack)                 2        2.99   \n",
       "\n",
       "       Order Date                         Purchase Address  Month  \n",
       "0  05/16/19 17:14      669 2nd St, New York City, NY 10001      5  \n",
       "1  05/19/19 14:43          844 Walnut St, Dallas, TX 75001      5  \n",
       "2  05/24/19 11:36  164 Madison St, New York City, NY 10001      5  \n",
       "3  05/02/19 20:40          622 Meadow St, Dallas, TX 75001      5  \n",
       "4  05/11/19 22:55          17 Church St, Seattle, WA 98101      5  "
      ]
     },
     "execution_count": 126,
     "metadata": {},
     "output_type": "execute_result"
    }
   ],
   "source": [
    "#Add a new Column named as Month\n",
    "sales_data['Month'] = sales_data['Order Date'].str[0:2]\n",
    "sales_data['Month'] = sales_data['Month'].astype('int32')\n",
    "sales_data.head()"
   ]
  },
  {
   "cell_type": "code",
   "execution_count": 127,
   "metadata": {},
   "outputs": [
    {
     "data": {
      "text/html": [
       "<div>\n",
       "<style scoped>\n",
       "    .dataframe tbody tr th:only-of-type {\n",
       "        vertical-align: middle;\n",
       "    }\n",
       "\n",
       "    .dataframe tbody tr th {\n",
       "        vertical-align: top;\n",
       "    }\n",
       "\n",
       "    .dataframe thead th {\n",
       "        text-align: right;\n",
       "    }\n",
       "</style>\n",
       "<table border=\"1\" class=\"dataframe\">\n",
       "  <thead>\n",
       "    <tr style=\"text-align: right;\">\n",
       "      <th></th>\n",
       "      <th>Order ID</th>\n",
       "      <th>Product</th>\n",
       "      <th>Quantity Ordered</th>\n",
       "      <th>Price Each</th>\n",
       "      <th>Order Date</th>\n",
       "      <th>Purchase Address</th>\n",
       "      <th>Month</th>\n",
       "      <th>City</th>\n",
       "    </tr>\n",
       "  </thead>\n",
       "  <tbody>\n",
       "    <tr>\n",
       "      <th>0</th>\n",
       "      <td>194095</td>\n",
       "      <td>Wired Headphones</td>\n",
       "      <td>1</td>\n",
       "      <td>11.99</td>\n",
       "      <td>05/16/19 17:14</td>\n",
       "      <td>669 2nd St, New York City, NY 10001</td>\n",
       "      <td>5</td>\n",
       "      <td>New York City  (NY)</td>\n",
       "    </tr>\n",
       "    <tr>\n",
       "      <th>1</th>\n",
       "      <td>194096</td>\n",
       "      <td>AA Batteries (4-pack)</td>\n",
       "      <td>1</td>\n",
       "      <td>3.84</td>\n",
       "      <td>05/19/19 14:43</td>\n",
       "      <td>844 Walnut St, Dallas, TX 75001</td>\n",
       "      <td>5</td>\n",
       "      <td>Dallas  (TX)</td>\n",
       "    </tr>\n",
       "    <tr>\n",
       "      <th>2</th>\n",
       "      <td>194097</td>\n",
       "      <td>27in FHD Monitor</td>\n",
       "      <td>1</td>\n",
       "      <td>149.99</td>\n",
       "      <td>05/24/19 11:36</td>\n",
       "      <td>164 Madison St, New York City, NY 10001</td>\n",
       "      <td>5</td>\n",
       "      <td>New York City  (NY)</td>\n",
       "    </tr>\n",
       "    <tr>\n",
       "      <th>3</th>\n",
       "      <td>194098</td>\n",
       "      <td>Wired Headphones</td>\n",
       "      <td>1</td>\n",
       "      <td>11.99</td>\n",
       "      <td>05/02/19 20:40</td>\n",
       "      <td>622 Meadow St, Dallas, TX 75001</td>\n",
       "      <td>5</td>\n",
       "      <td>Dallas  (TX)</td>\n",
       "    </tr>\n",
       "    <tr>\n",
       "      <th>4</th>\n",
       "      <td>194099</td>\n",
       "      <td>AAA Batteries (4-pack)</td>\n",
       "      <td>2</td>\n",
       "      <td>2.99</td>\n",
       "      <td>05/11/19 22:55</td>\n",
       "      <td>17 Church St, Seattle, WA 98101</td>\n",
       "      <td>5</td>\n",
       "      <td>Seattle  (WA)</td>\n",
       "    </tr>\n",
       "  </tbody>\n",
       "</table>\n",
       "</div>"
      ],
      "text/plain": [
       "  Order ID                 Product  Quantity Ordered  Price Each  \\\n",
       "0   194095        Wired Headphones                 1       11.99   \n",
       "1   194096   AA Batteries (4-pack)                 1        3.84   \n",
       "2   194097        27in FHD Monitor                 1      149.99   \n",
       "3   194098        Wired Headphones                 1       11.99   \n",
       "4   194099  AAA Batteries (4-pack)                 2        2.99   \n",
       "\n",
       "       Order Date                         Purchase Address  Month  \\\n",
       "0  05/16/19 17:14      669 2nd St, New York City, NY 10001      5   \n",
       "1  05/19/19 14:43          844 Walnut St, Dallas, TX 75001      5   \n",
       "2  05/24/19 11:36  164 Madison St, New York City, NY 10001      5   \n",
       "3  05/02/19 20:40          622 Meadow St, Dallas, TX 75001      5   \n",
       "4  05/11/19 22:55          17 Church St, Seattle, WA 98101      5   \n",
       "\n",
       "                  City  \n",
       "0  New York City  (NY)  \n",
       "1         Dallas  (TX)  \n",
       "2  New York City  (NY)  \n",
       "3         Dallas  (TX)  \n",
       "4        Seattle  (WA)  "
      ]
     },
     "execution_count": 127,
     "metadata": {},
     "output_type": "execute_result"
    }
   ],
   "source": [
    "#Add a new Column named as City\n",
    "def city(address):\n",
    "    return address.split(\",\")[1].strip(\" \")\n",
    "\n",
    "def state(address):\n",
    "    return address.split(\",\")[2].split(\" \")[1]\n",
    "\n",
    "sales_data['City'] = sales_data['Purchase Address'].apply(lambda x: f\"{city(x)}  ({state(x)})\")\n",
    "sales_data.head()"
   ]
  },
  {
   "cell_type": "code",
   "execution_count": 128,
   "metadata": {},
   "outputs": [],
   "source": [
    "import jovian"
   ]
  },
  {
   "cell_type": "code",
   "execution_count": 129,
   "metadata": {},
   "outputs": [
    {
     "data": {
      "application/javascript": [
       "window.require && require([\"base/js/namespace\"],function(Jupyter){Jupyter.notebook.save_checkpoint()})"
      ],
      "text/plain": [
       "<IPython.core.display.Javascript object>"
      ]
     },
     "metadata": {},
     "output_type": "display_data"
    },
    {
     "name": "stdout",
     "output_type": "stream",
     "text": [
      "[jovian] Updating notebook \"mohammadowaisprofessional/sales-data-analysis\" on https://jovian.ai\u001b[0m\n",
      "[jovian] Committed successfully! https://jovian.ai/mohammadowaisprofessional/sales-data-analysis\u001b[0m\n"
     ]
    },
    {
     "data": {
      "text/plain": [
       "'https://jovian.ai/mohammadowaisprofessional/sales-data-analysis'"
      ]
     },
     "execution_count": 129,
     "metadata": {},
     "output_type": "execute_result"
    }
   ],
   "source": [
    "jovian.commit()"
   ]
  },
  {
   "cell_type": "markdown",
   "metadata": {},
   "source": [
    "## Exploratory Analysis and Visualization\n",
    "\n",
    "**TODO** - Here we will ask some questions about data and check wether data is giving us right answers or appropriate answers\n",
    "\n"
   ]
  },
  {
   "cell_type": "markdown",
   "metadata": {},
   "source": [
    "Let's begin by importing`matplotlib.pyplot` and `seaborn`."
   ]
  },
  {
   "cell_type": "code",
   "execution_count": 130,
   "metadata": {},
   "outputs": [],
   "source": [
    "import seaborn as sns\n",
    "import matplotlib\n",
    "import matplotlib.pyplot as plt\n",
    "%matplotlib inline\n",
    "\n",
    "sns.set_style('darkgrid')\n",
    "matplotlib.rcParams['font.size'] = 14\n",
    "matplotlib.rcParams['figure.figsize'] = (9, 5)\n",
    "matplotlib.rcParams['figure.facecolor'] = '#00000000'"
   ]
  },
  {
   "cell_type": "markdown",
   "metadata": {},
   "source": [
    "**TODO** - Explore one or more columns by plotting a graph below, and add some explanation about it"
   ]
  },
  {
   "cell_type": "code",
   "execution_count": 131,
   "metadata": {},
   "outputs": [
    {
     "data": {
      "text/html": [
       "<div>\n",
       "<style scoped>\n",
       "    .dataframe tbody tr th:only-of-type {\n",
       "        vertical-align: middle;\n",
       "    }\n",
       "\n",
       "    .dataframe tbody tr th {\n",
       "        vertical-align: top;\n",
       "    }\n",
       "\n",
       "    .dataframe thead th {\n",
       "        text-align: right;\n",
       "    }\n",
       "</style>\n",
       "<table border=\"1\" class=\"dataframe\">\n",
       "  <thead>\n",
       "    <tr style=\"text-align: right;\">\n",
       "      <th></th>\n",
       "      <th>Quantity Ordered</th>\n",
       "      <th>Price Each</th>\n",
       "      <th>Sales</th>\n",
       "    </tr>\n",
       "    <tr>\n",
       "      <th>Month</th>\n",
       "      <th></th>\n",
       "      <th></th>\n",
       "      <th></th>\n",
       "    </tr>\n",
       "  </thead>\n",
       "  <tbody>\n",
       "    <tr>\n",
       "      <th>1</th>\n",
       "      <td>21806</td>\n",
       "      <td>3623536.76</td>\n",
       "      <td>3644513.46</td>\n",
       "    </tr>\n",
       "    <tr>\n",
       "      <th>2</th>\n",
       "      <td>26898</td>\n",
       "      <td>4377769.44</td>\n",
       "      <td>4404044.84</td>\n",
       "    </tr>\n",
       "    <tr>\n",
       "      <th>3</th>\n",
       "      <td>34010</td>\n",
       "      <td>5582415.66</td>\n",
       "      <td>5614200.76</td>\n",
       "    </tr>\n",
       "    <tr>\n",
       "      <th>4</th>\n",
       "      <td>41116</td>\n",
       "      <td>6735342.04</td>\n",
       "      <td>6781340.48</td>\n",
       "    </tr>\n",
       "    <tr>\n",
       "      <th>5</th>\n",
       "      <td>37334</td>\n",
       "      <td>6270250.26</td>\n",
       "      <td>6305213.50</td>\n",
       "    </tr>\n",
       "    <tr>\n",
       "      <th>6</th>\n",
       "      <td>30506</td>\n",
       "      <td>5124051.22</td>\n",
       "      <td>5155604.52</td>\n",
       "    </tr>\n",
       "    <tr>\n",
       "      <th>7</th>\n",
       "      <td>32144</td>\n",
       "      <td>5265079.12</td>\n",
       "      <td>5295551.52</td>\n",
       "    </tr>\n",
       "    <tr>\n",
       "      <th>8</th>\n",
       "      <td>26896</td>\n",
       "      <td>4460690.84</td>\n",
       "      <td>4488935.76</td>\n",
       "    </tr>\n",
       "    <tr>\n",
       "      <th>9</th>\n",
       "      <td>26218</td>\n",
       "      <td>4169984.18</td>\n",
       "      <td>4195120.26</td>\n",
       "    </tr>\n",
       "    <tr>\n",
       "      <th>10</th>\n",
       "      <td>45406</td>\n",
       "      <td>7431109.66</td>\n",
       "      <td>7473453.76</td>\n",
       "    </tr>\n",
       "    <tr>\n",
       "      <th>11</th>\n",
       "      <td>39596</td>\n",
       "      <td>6361201.36</td>\n",
       "      <td>6399206.40</td>\n",
       "    </tr>\n",
       "    <tr>\n",
       "      <th>12</th>\n",
       "      <td>56228</td>\n",
       "      <td>9176830.82</td>\n",
       "      <td>9226886.68</td>\n",
       "    </tr>\n",
       "  </tbody>\n",
       "</table>\n",
       "</div>"
      ],
      "text/plain": [
       "       Quantity Ordered  Price Each       Sales\n",
       "Month                                          \n",
       "1                 21806  3623536.76  3644513.46\n",
       "2                 26898  4377769.44  4404044.84\n",
       "3                 34010  5582415.66  5614200.76\n",
       "4                 41116  6735342.04  6781340.48\n",
       "5                 37334  6270250.26  6305213.50\n",
       "6                 30506  5124051.22  5155604.52\n",
       "7                 32144  5265079.12  5295551.52\n",
       "8                 26896  4460690.84  4488935.76\n",
       "9                 26218  4169984.18  4195120.26\n",
       "10                45406  7431109.66  7473453.76\n",
       "11                39596  6361201.36  6399206.40\n",
       "12                56228  9176830.82  9226886.68"
      ]
     },
     "execution_count": 131,
     "metadata": {},
     "output_type": "execute_result"
    }
   ],
   "source": [
    "#In which month sales was highest??\n",
    "sales_data['Sales'] = sales_data['Quantity Ordered'].astype('int') * sales_data['Price Each'].astype('float')\n",
    "sales_data.groupby(['Month']).sum()"
   ]
  },
  {
   "cell_type": "code",
   "execution_count": 132,
   "metadata": {},
   "outputs": [
    {
     "name": "stdout",
     "output_type": "stream",
     "text": [
      "range(1, 13)\n"
     ]
    },
    {
     "data": {
      "image/png": "[encoded data removed]",
      "text/plain": [
       "<Figure size 648x360 with 1 Axes>"
      ]
     },
     "metadata": {
      "needs_background": "light"
     },
     "output_type": "display_data"
    }
   ],
   "source": [
    "import matplotlib.pyplot as plt\n",
    "\n",
    "months = range(1,13)\n",
    "print(months)\n",
    "\n",
    "plt.bar(months,sales_data.groupby(['Month']).sum()['Sales'])\n",
    "plt.xticks(months)\n",
    "plt.ylabel('Sales($)')\n",
    "plt.xlabel('Month')\n",
    "plt.show()"
   ]
  },
  {
   "cell_type": "markdown",
   "metadata": {},
   "source": [
    "**TODO** - Explore one or more columns by plotting a graph below, and add some explanation about it"
   ]
  },
  {
   "cell_type": "code",
   "execution_count": 133,
   "metadata": {},
   "outputs": [
    {
     "data": {
      "text/html": [
       "<div>\n",
       "<style scoped>\n",
       "    .dataframe tbody tr th:only-of-type {\n",
       "        vertical-align: middle;\n",
       "    }\n",
       "\n",
       "    .dataframe tbody tr th {\n",
       "        vertical-align: top;\n",
       "    }\n",
       "\n",
       "    .dataframe thead th {\n",
       "        text-align: right;\n",
       "    }\n",
       "</style>\n",
       "<table border=\"1\" class=\"dataframe\">\n",
       "  <thead>\n",
       "    <tr style=\"text-align: right;\">\n",
       "      <th></th>\n",
       "      <th>Quantity Ordered</th>\n",
       "      <th>Price Each</th>\n",
       "      <th>Month</th>\n",
       "      <th>Sales</th>\n",
       "    </tr>\n",
       "    <tr>\n",
       "      <th>City</th>\n",
       "      <th></th>\n",
       "      <th></th>\n",
       "      <th></th>\n",
       "      <th></th>\n",
       "    </tr>\n",
       "  </thead>\n",
       "  <tbody>\n",
       "    <tr>\n",
       "      <th>Atlanta  (GA)</th>\n",
       "      <td>33204</td>\n",
       "      <td>5559816.40</td>\n",
       "      <td>209588</td>\n",
       "      <td>5590997.16</td>\n",
       "    </tr>\n",
       "    <tr>\n",
       "      <th>Austin  (TX)</th>\n",
       "      <td>22306</td>\n",
       "      <td>3619747.22</td>\n",
       "      <td>139658</td>\n",
       "      <td>3639163.50</td>\n",
       "    </tr>\n",
       "    <tr>\n",
       "      <th>Boston  (MA)</th>\n",
       "      <td>45056</td>\n",
       "      <td>7274819.54</td>\n",
       "      <td>282224</td>\n",
       "      <td>7323284.02</td>\n",
       "    </tr>\n",
       "    <tr>\n",
       "      <th>Dallas  (TX)</th>\n",
       "      <td>33460</td>\n",
       "      <td>5505255.64</td>\n",
       "      <td>209240</td>\n",
       "      <td>5535950.80</td>\n",
       "    </tr>\n",
       "    <tr>\n",
       "      <th>Los Angeles  (CA)</th>\n",
       "      <td>66578</td>\n",
       "      <td>10842870.46</td>\n",
       "      <td>416650</td>\n",
       "      <td>10905141.60</td>\n",
       "    </tr>\n",
       "    <tr>\n",
       "      <th>New York City  (NY)</th>\n",
       "      <td>55864</td>\n",
       "      <td>9270741.66</td>\n",
       "      <td>351482</td>\n",
       "      <td>9328634.86</td>\n",
       "    </tr>\n",
       "    <tr>\n",
       "      <th>Portland  (ME)</th>\n",
       "      <td>5500</td>\n",
       "      <td>894378.50</td>\n",
       "      <td>34288</td>\n",
       "      <td>899516.54</td>\n",
       "    </tr>\n",
       "    <tr>\n",
       "      <th>Portland  (OR)</th>\n",
       "      <td>22606</td>\n",
       "      <td>3721116.44</td>\n",
       "      <td>141242</td>\n",
       "      <td>3741464.68</td>\n",
       "    </tr>\n",
       "    <tr>\n",
       "      <th>San Francisco  (CA)</th>\n",
       "      <td>100478</td>\n",
       "      <td>16422923.48</td>\n",
       "      <td>631040</td>\n",
       "      <td>16524407.82</td>\n",
       "    </tr>\n",
       "    <tr>\n",
       "      <th>Seattle  (WA)</th>\n",
       "      <td>33106</td>\n",
       "      <td>5466592.02</td>\n",
       "      <td>209882</td>\n",
       "      <td>5495510.96</td>\n",
       "    </tr>\n",
       "  </tbody>\n",
       "</table>\n",
       "</div>"
      ],
      "text/plain": [
       "                     Quantity Ordered   Price Each   Month        Sales\n",
       "City                                                                   \n",
       "Atlanta  (GA)                   33204   5559816.40  209588   5590997.16\n",
       "Austin  (TX)                    22306   3619747.22  139658   3639163.50\n",
       "Boston  (MA)                    45056   7274819.54  282224   7323284.02\n",
       "Dallas  (TX)                    33460   5505255.64  209240   5535950.80\n",
       "Los Angeles  (CA)               66578  10842870.46  416650  10905141.60\n",
       "New York City  (NY)             55864   9270741.66  351482   9328634.86\n",
       "Portland  (ME)                   5500    894378.50   34288    899516.54\n",
       "Portland  (OR)                  22606   3721116.44  141242   3741464.68\n",
       "San Francisco  (CA)            100478  16422923.48  631040  16524407.82\n",
       "Seattle  (WA)                   33106   5466592.02  209882   5495510.96"
      ]
     },
     "execution_count": 133,
     "metadata": {},
     "output_type": "execute_result"
    }
   ],
   "source": [
    "#In which city most product was sold???\n",
    "sales_data.groupby(['City']).sum()"
   ]
  },
  {
   "cell_type": "code",
   "execution_count": 134,
   "metadata": {},
   "outputs": [
    {
     "data": {
      "image/png": "[encoded data removed]",
      "text/plain": [
       "<Figure size 648x360 with 1 Axes>"
      ]
     },
     "metadata": {
      "needs_background": "light"
     },
     "output_type": "display_data"
    }
   ],
   "source": [
    "import matplotlib.pyplot as plt\n",
    "\n",
    "keys = [city for city, df in sales_data.groupby(['City'])]\n",
    "\n",
    "plt.bar(keys,sales_data.groupby(['City']).sum()['Sales'])\n",
    "plt.ylabel('Sales ($)')\n",
    "plt.xlabel('City Name')\n",
    "plt.xticks(keys, rotation='vertical', size=8)\n",
    "plt.show()"
   ]
  },
  {
   "cell_type": "markdown",
   "metadata": {},
   "source": [
    "**TODO** - Explore one or more columns by plotting a graph below, and add some explanation about it"
   ]
  },
  {
   "cell_type": "code",
   "execution_count": 135,
   "metadata": {},
   "outputs": [
    {
     "data": {
      "text/html": [
       "<div>\n",
       "<style scoped>\n",
       "    .dataframe tbody tr th:only-of-type {\n",
       "        vertical-align: middle;\n",
       "    }\n",
       "\n",
       "    .dataframe tbody tr th {\n",
       "        vertical-align: top;\n",
       "    }\n",
       "\n",
       "    .dataframe thead th {\n",
       "        text-align: right;\n",
       "    }\n",
       "</style>\n",
       "<table border=\"1\" class=\"dataframe\">\n",
       "  <thead>\n",
       "    <tr style=\"text-align: right;\">\n",
       "      <th></th>\n",
       "      <th>Quantity Ordered</th>\n",
       "      <th>Price Each</th>\n",
       "      <th>Month</th>\n",
       "      <th>Sales</th>\n",
       "    </tr>\n",
       "    <tr>\n",
       "      <th>Product</th>\n",
       "      <th></th>\n",
       "      <th></th>\n",
       "      <th></th>\n",
       "      <th></th>\n",
       "    </tr>\n",
       "  </thead>\n",
       "  <tbody>\n",
       "    <tr>\n",
       "      <th>20in Monitor</th>\n",
       "      <td>8258</td>\n",
       "      <td>902137.98</td>\n",
       "      <td>58672</td>\n",
       "      <td>908297.42</td>\n",
       "    </tr>\n",
       "    <tr>\n",
       "      <th>27in 4K Gaming Monitor</th>\n",
       "      <td>12488</td>\n",
       "      <td>4859275.40</td>\n",
       "      <td>88880</td>\n",
       "      <td>4870195.12</td>\n",
       "    </tr>\n",
       "    <tr>\n",
       "      <th>27in FHD Monitor</th>\n",
       "      <td>15100</td>\n",
       "      <td>2251949.86</td>\n",
       "      <td>105116</td>\n",
       "      <td>2264849.00</td>\n",
       "    </tr>\n",
       "    <tr>\n",
       "      <th>34in Ultrawide Monitor</th>\n",
       "      <td>12398</td>\n",
       "      <td>4697436.38</td>\n",
       "      <td>86608</td>\n",
       "      <td>4711116.02</td>\n",
       "    </tr>\n",
       "    <tr>\n",
       "      <th>AA Batteries (4-pack)</th>\n",
       "      <td>55270</td>\n",
       "      <td>158031.36</td>\n",
       "      <td>291116</td>\n",
       "      <td>212236.80</td>\n",
       "    </tr>\n",
       "    <tr>\n",
       "      <th>AAA Batteries (4-pack)</th>\n",
       "      <td>62034</td>\n",
       "      <td>123433.18</td>\n",
       "      <td>292740</td>\n",
       "      <td>185481.66</td>\n",
       "    </tr>\n",
       "    <tr>\n",
       "      <th>Apple Airpods Headphones</th>\n",
       "      <td>31322</td>\n",
       "      <td>4664700.00</td>\n",
       "      <td>218954</td>\n",
       "      <td>4698300.00</td>\n",
       "    </tr>\n",
       "    <tr>\n",
       "      <th>Bose SoundSport Headphones</th>\n",
       "      <td>26914</td>\n",
       "      <td>2664733.50</td>\n",
       "      <td>188226</td>\n",
       "      <td>2691130.86</td>\n",
       "    </tr>\n",
       "    <tr>\n",
       "      <th>Flatscreen TV</th>\n",
       "      <td>9638</td>\n",
       "      <td>2880000.00</td>\n",
       "      <td>68448</td>\n",
       "      <td>2891400.00</td>\n",
       "    </tr>\n",
       "    <tr>\n",
       "      <th>Google Phone</th>\n",
       "      <td>11064</td>\n",
       "      <td>6630000.00</td>\n",
       "      <td>76610</td>\n",
       "      <td>6638400.00</td>\n",
       "    </tr>\n",
       "    <tr>\n",
       "      <th>LG Dryer</th>\n",
       "      <td>1292</td>\n",
       "      <td>775200.00</td>\n",
       "      <td>8766</td>\n",
       "      <td>775200.00</td>\n",
       "    </tr>\n",
       "    <tr>\n",
       "      <th>LG Washing Machine</th>\n",
       "      <td>1332</td>\n",
       "      <td>799200.00</td>\n",
       "      <td>9046</td>\n",
       "      <td>799200.00</td>\n",
       "    </tr>\n",
       "    <tr>\n",
       "      <th>Lightning Charging Cable</th>\n",
       "      <td>46434</td>\n",
       "      <td>647574.20</td>\n",
       "      <td>306184</td>\n",
       "      <td>694188.30</td>\n",
       "    </tr>\n",
       "    <tr>\n",
       "      <th>Macbook Pro Laptop</th>\n",
       "      <td>9456</td>\n",
       "      <td>16061600.00</td>\n",
       "      <td>67096</td>\n",
       "      <td>16075200.00</td>\n",
       "    </tr>\n",
       "    <tr>\n",
       "      <th>ThinkPad Laptop</th>\n",
       "      <td>8260</td>\n",
       "      <td>8255917.44</td>\n",
       "      <td>57900</td>\n",
       "      <td>8259917.40</td>\n",
       "    </tr>\n",
       "    <tr>\n",
       "      <th>USB-C Charging Cable</th>\n",
       "      <td>47950</td>\n",
       "      <td>523481.70</td>\n",
       "      <td>309638</td>\n",
       "      <td>573002.50</td>\n",
       "    </tr>\n",
       "    <tr>\n",
       "      <th>Vareebadd Phone</th>\n",
       "      <td>4136</td>\n",
       "      <td>1652000.00</td>\n",
       "      <td>28618</td>\n",
       "      <td>1654400.00</td>\n",
       "    </tr>\n",
       "    <tr>\n",
       "      <th>Wired Headphones</th>\n",
       "      <td>41114</td>\n",
       "      <td>452790.36</td>\n",
       "      <td>266794</td>\n",
       "      <td>492956.86</td>\n",
       "    </tr>\n",
       "    <tr>\n",
       "      <th>iPhone</th>\n",
       "      <td>13698</td>\n",
       "      <td>9578800.00</td>\n",
       "      <td>95882</td>\n",
       "      <td>9588600.00</td>\n",
       "    </tr>\n",
       "  </tbody>\n",
       "</table>\n",
       "</div>"
      ],
      "text/plain": [
       "                            Quantity Ordered   Price Each   Month        Sales\n",
       "Product                                                                       \n",
       "20in Monitor                            8258    902137.98   58672    908297.42\n",
       "27in 4K Gaming Monitor                 12488   4859275.40   88880   4870195.12\n",
       "27in FHD Monitor                       15100   2251949.86  105116   2264849.00\n",
       "34in Ultrawide Monitor                 12398   4697436.38   86608   4711116.02\n",
       "AA Batteries (4-pack)                  55270    158031.36  291116    212236.80\n",
       "AAA Batteries (4-pack)                 62034    123433.18  292740    185481.66\n",
       "Apple Airpods Headphones               31322   4664700.00  218954   4698300.00\n",
       "Bose SoundSport Headphones             26914   2664733.50  188226   2691130.86\n",
       "Flatscreen TV                           9638   2880000.00   68448   2891400.00\n",
       "Google Phone                           11064   6630000.00   76610   6638400.00\n",
       "LG Dryer                                1292    775200.00    8766    775200.00\n",
       "LG Washing Machine                      1332    799200.00    9046    799200.00\n",
       "Lightning Charging Cable               46434    647574.20  306184    694188.30\n",
       "Macbook Pro Laptop                      9456  16061600.00   67096  16075200.00\n",
       "ThinkPad Laptop                         8260   8255917.44   57900   8259917.40\n",
       "USB-C Charging Cable                   47950    523481.70  309638    573002.50\n",
       "Vareebadd Phone                         4136   1652000.00   28618   1654400.00\n",
       "Wired Headphones                       41114    452790.36  266794    492956.86\n",
       "iPhone                                 13698   9578800.00   95882   9588600.00"
      ]
     },
     "execution_count": 135,
     "metadata": {},
     "output_type": "execute_result"
    }
   ],
   "source": [
    "#List of product which was sold most??\n",
    "sales_data.groupby(['Product']).sum()"
   ]
  },
  {
   "cell_type": "code",
   "execution_count": 136,
   "metadata": {},
   "outputs": [
    {
     "data": {
      "image/png": "[encoded data removed]",
      "text/plain": [
       "<Figure size 648x360 with 1 Axes>"
      ]
     },
     "metadata": {
      "needs_background": "light"
     },
     "output_type": "display_data"
    }
   ],
   "source": [
    "import matplotlib.pyplot as plt\n",
    "\n",
    "keys = [Product for Product, df in sales_data.groupby(['Product'])]\n",
    "\n",
    "plt.bar(keys,sales_data.groupby(['Product']).sum()['Sales'])\n",
    "plt.ylabel('Sales ($)')\n",
    "plt.xlabel('Product Name')\n",
    "plt.xticks(keys, rotation='vertical', size=8)\n",
    "plt.show()"
   ]
  },
  {
   "cell_type": "markdown",
   "metadata": {},
   "source": [
    "**TODO** - Explore one or more columns by plotting a graph below, and add some explanation about it"
   ]
  },
  {
   "cell_type": "code",
   "execution_count": 137,
   "metadata": {},
   "outputs": [
    {
     "data": {
      "text/html": [
       "<div>\n",
       "<style scoped>\n",
       "    .dataframe tbody tr th:only-of-type {\n",
       "        vertical-align: middle;\n",
       "    }\n",
       "\n",
       "    .dataframe tbody tr th {\n",
       "        vertical-align: top;\n",
       "    }\n",
       "\n",
       "    .dataframe thead th {\n",
       "        text-align: right;\n",
       "    }\n",
       "</style>\n",
       "<table border=\"1\" class=\"dataframe\">\n",
       "  <thead>\n",
       "    <tr style=\"text-align: right;\">\n",
       "      <th></th>\n",
       "      <th>Order ID</th>\n",
       "      <th>Product</th>\n",
       "      <th>Quantity Ordered</th>\n",
       "      <th>Price Each</th>\n",
       "      <th>Order Date</th>\n",
       "      <th>Purchase Address</th>\n",
       "      <th>Month</th>\n",
       "      <th>City</th>\n",
       "      <th>Sales</th>\n",
       "      <th>Hour</th>\n",
       "      <th>Minute</th>\n",
       "      <th>Count</th>\n",
       "    </tr>\n",
       "  </thead>\n",
       "  <tbody>\n",
       "    <tr>\n",
       "      <th>0</th>\n",
       "      <td>194095</td>\n",
       "      <td>Wired Headphones</td>\n",
       "      <td>1</td>\n",
       "      <td>11.99</td>\n",
       "      <td>05/16/19 17:14</td>\n",
       "      <td>669 2nd St, New York City, NY 10001</td>\n",
       "      <td>5</td>\n",
       "      <td>New York City  (NY)</td>\n",
       "      <td>11.99</td>\n",
       "      <td>17</td>\n",
       "      <td>14</td>\n",
       "      <td>1</td>\n",
       "    </tr>\n",
       "    <tr>\n",
       "      <th>1</th>\n",
       "      <td>194096</td>\n",
       "      <td>AA Batteries (4-pack)</td>\n",
       "      <td>1</td>\n",
       "      <td>3.84</td>\n",
       "      <td>05/19/19 14:43</td>\n",
       "      <td>844 Walnut St, Dallas, TX 75001</td>\n",
       "      <td>5</td>\n",
       "      <td>Dallas  (TX)</td>\n",
       "      <td>3.84</td>\n",
       "      <td>14</td>\n",
       "      <td>43</td>\n",
       "      <td>1</td>\n",
       "    </tr>\n",
       "    <tr>\n",
       "      <th>2</th>\n",
       "      <td>194097</td>\n",
       "      <td>27in FHD Monitor</td>\n",
       "      <td>1</td>\n",
       "      <td>149.99</td>\n",
       "      <td>05/24/19 11:36</td>\n",
       "      <td>164 Madison St, New York City, NY 10001</td>\n",
       "      <td>5</td>\n",
       "      <td>New York City  (NY)</td>\n",
       "      <td>149.99</td>\n",
       "      <td>11</td>\n",
       "      <td>36</td>\n",
       "      <td>1</td>\n",
       "    </tr>\n",
       "    <tr>\n",
       "      <th>3</th>\n",
       "      <td>194098</td>\n",
       "      <td>Wired Headphones</td>\n",
       "      <td>1</td>\n",
       "      <td>11.99</td>\n",
       "      <td>05/02/19 20:40</td>\n",
       "      <td>622 Meadow St, Dallas, TX 75001</td>\n",
       "      <td>5</td>\n",
       "      <td>Dallas  (TX)</td>\n",
       "      <td>11.99</td>\n",
       "      <td>20</td>\n",
       "      <td>40</td>\n",
       "      <td>1</td>\n",
       "    </tr>\n",
       "    <tr>\n",
       "      <th>4</th>\n",
       "      <td>194099</td>\n",
       "      <td>AAA Batteries (4-pack)</td>\n",
       "      <td>2</td>\n",
       "      <td>2.99</td>\n",
       "      <td>05/11/19 22:55</td>\n",
       "      <td>17 Church St, Seattle, WA 98101</td>\n",
       "      <td>5</td>\n",
       "      <td>Seattle  (WA)</td>\n",
       "      <td>5.98</td>\n",
       "      <td>22</td>\n",
       "      <td>55</td>\n",
       "      <td>1</td>\n",
       "    </tr>\n",
       "  </tbody>\n",
       "</table>\n",
       "</div>"
      ],
      "text/plain": [
       "  Order ID                 Product  Quantity Ordered  Price Each  \\\n",
       "0   194095        Wired Headphones                 1       11.99   \n",
       "1   194096   AA Batteries (4-pack)                 1        3.84   \n",
       "2   194097        27in FHD Monitor                 1      149.99   \n",
       "3   194098        Wired Headphones                 1       11.99   \n",
       "4   194099  AAA Batteries (4-pack)                 2        2.99   \n",
       "\n",
       "       Order Date                         Purchase Address  Month  \\\n",
       "0  05/16/19 17:14      669 2nd St, New York City, NY 10001      5   \n",
       "1  05/19/19 14:43          844 Walnut St, Dallas, TX 75001      5   \n",
       "2  05/24/19 11:36  164 Madison St, New York City, NY 10001      5   \n",
       "3  05/02/19 20:40          622 Meadow St, Dallas, TX 75001      5   \n",
       "4  05/11/19 22:55          17 Church St, Seattle, WA 98101      5   \n",
       "\n",
       "                  City   Sales  Hour  Minute  Count  \n",
       "0  New York City  (NY)   11.99    17      14      1  \n",
       "1         Dallas  (TX)    3.84    14      43      1  \n",
       "2  New York City  (NY)  149.99    11      36      1  \n",
       "3         Dallas  (TX)   11.99    20      40      1  \n",
       "4        Seattle  (WA)    5.98    22      55      1  "
      ]
     },
     "execution_count": 137,
     "metadata": {},
     "output_type": "execute_result"
    }
   ],
   "source": [
    "#what should be the appropriate time for displaying advertisement which would attract more customer???\n",
    "sales_data['Hour'] = pd.to_datetime(sales_data['Order Date']).dt.hour\n",
    "sales_data['Minute'] = pd.to_datetime(sales_data['Order Date']).dt.minute\n",
    "sales_data['Count'] = 1\n",
    "sales_data.head()\n"
   ]
  },
  {
   "cell_type": "code",
   "execution_count": 138,
   "metadata": {},
   "outputs": [
    {
     "data": {
      "image/png": "[encoded data removed]",
      "text/plain": [
       "<Figure size 648x360 with 1 Axes>"
      ]
     },
     "metadata": {
      "needs_background": "light"
     },
     "output_type": "display_data"
    }
   ],
   "source": [
    "keys = [pair for pair, df in sales_data.groupby(['Hour'])]\n",
    "\n",
    "plt.plot(keys, sales_data.groupby(['Hour']).count()['Count'])\n",
    "plt.xticks(keys)\n",
    "plt.grid()\n",
    "plt.show()\n",
    "\n",
    "# I like to go for shopping at 6 pm  evening "
   ]
  },
  {
   "cell_type": "markdown",
   "metadata": {},
   "source": [
    "**TODO** - Explore one or more columns by plotting a graph below, and add some explanation about it"
   ]
  },
  {
   "cell_type": "code",
   "execution_count": 139,
   "metadata": {},
   "outputs": [],
   "source": [
    "#which products are sold in groups more oftenly??\n",
    "df = sales_data[sales_data['Order ID'].duplicated(keep=False)]\\\n",
    "\n",
    "df['Grouped'] = df.groupby('Order ID')['Product'].transform(lambda x: ','.join(x))\n",
    "df2 = df[['Order ID', 'Grouped']].drop_duplicates()"
   ]
  },
  {
   "cell_type": "code",
   "execution_count": 140,
   "metadata": {},
   "outputs": [
    {
     "name": "stdout",
     "output_type": "stream",
     "text": [
      "('USB-C Charging Cable', 'USB-C Charging Cable') 22095\n",
      "('Lightning Charging Cable', 'Lightning Charging Cable') 21874\n",
      "('AAA Batteries (4-pack)', 'AAA Batteries (4-pack)') 20833\n",
      "('AA Batteries (4-pack)', 'AA Batteries (4-pack)') 20717\n",
      "('Wired Headphones', 'Wired Headphones') 19022\n",
      "('Apple Airpods Headphones', 'Apple Airpods Headphones') 15645\n",
      "('Bose SoundSport Headphones', 'Bose SoundSport Headphones') 13433\n",
      "('27in FHD Monitor', '27in FHD Monitor') 7543\n",
      "('iPhone', 'iPhone') 6850\n",
      "('27in 4K Gaming Monitor', '27in 4K Gaming Monitor') 6250\n"
     ]
    }
   ],
   "source": [
    "#This module implements a number of iterator building blocks inspired by constructs from APL, Haskell, and SML. Each has been recast in a form suitable for Python.\n",
    "\n",
    "#The module standardizes a core set of fast, memory efficient tools that are useful by themselves or in combination. Together, they form an “iterator algebra” making it possible to construct specialized tools succinctly and efficiently in pure Python.\n",
    "\n",
    "from itertools import combinations\n",
    "from collections import Counter\n",
    "\n",
    "count = Counter()\n",
    "\n",
    "for row in df2['Grouped']:\n",
    "    row_list = row.split(',')\n",
    "    count.update(Counter(combinations(row_list, 2)))\n",
    "\n",
    "for key,value in count.most_common(10):\n",
    "    print(key, value)"
   ]
  },
  {
   "cell_type": "markdown",
   "metadata": {},
   "source": [
    "Let us save and upload our work to Jovian before continuing"
   ]
  },
  {
   "cell_type": "code",
   "execution_count": 141,
   "metadata": {},
   "outputs": [],
   "source": [
    "import jovian"
   ]
  },
  {
   "cell_type": "code",
   "execution_count": 142,
   "metadata": {},
   "outputs": [
    {
     "data": {
      "application/javascript": [
       "window.require && require([\"base/js/namespace\"],function(Jupyter){Jupyter.notebook.save_checkpoint()})"
      ],
      "text/plain": [
       "<IPython.core.display.Javascript object>"
      ]
     },
     "metadata": {},
     "output_type": "display_data"
    },
    {
     "name": "stdout",
     "output_type": "stream",
     "text": [
      "[jovian] Updating notebook \"mohammadowaisprofessional/sales-data-analysis\" on https://jovian.ai\u001b[0m\n",
      "[jovian] Committed successfully! https://jovian.ai/mohammadowaisprofessional/sales-data-analysis\u001b[0m\n"
     ]
    },
    {
     "data": {
      "text/plain": [
       "'https://jovian.ai/mohammadowaisprofessional/sales-data-analysis'"
      ]
     },
     "execution_count": 142,
     "metadata": {},
     "output_type": "execute_result"
    }
   ],
   "source": [
    "jovian.commit()"
   ]
  },
  {
   "cell_type": "markdown",
   "metadata": {},
   "source": [
    "## Asking and Answering Questions\n",
    "\n",
    "TODO - write some explanation here.\n",
    "\n"
   ]
  },
  {
   "cell_type": "markdown",
   "metadata": {},
   "source": [
    "#### Q1: In which month sales was highest ?"
   ]
  },
  {
   "cell_type": "code",
   "execution_count": 143,
   "metadata": {},
   "outputs": [
    {
     "data": {
      "text/html": [
       "<div>\n",
       "<style scoped>\n",
       "    .dataframe tbody tr th:only-of-type {\n",
       "        vertical-align: middle;\n",
       "    }\n",
       "\n",
       "    .dataframe tbody tr th {\n",
       "        vertical-align: top;\n",
       "    }\n",
       "\n",
       "    .dataframe thead th {\n",
       "        text-align: right;\n",
       "    }\n",
       "</style>\n",
       "<table border=\"1\" class=\"dataframe\">\n",
       "  <thead>\n",
       "    <tr style=\"text-align: right;\">\n",
       "      <th></th>\n",
       "      <th>Quantity Ordered</th>\n",
       "      <th>Price Each</th>\n",
       "      <th>Sales</th>\n",
       "      <th>Hour</th>\n",
       "      <th>Minute</th>\n",
       "      <th>Count</th>\n",
       "    </tr>\n",
       "    <tr>\n",
       "      <th>Month</th>\n",
       "      <th></th>\n",
       "      <th></th>\n",
       "      <th></th>\n",
       "      <th></th>\n",
       "      <th></th>\n",
       "      <th></th>\n",
       "    </tr>\n",
       "  </thead>\n",
       "  <tbody>\n",
       "    <tr>\n",
       "      <th>1</th>\n",
       "      <td>21806</td>\n",
       "      <td>3623536.76</td>\n",
       "      <td>3644513.46</td>\n",
       "      <td>278970</td>\n",
       "      <td>564880</td>\n",
       "      <td>19418</td>\n",
       "    </tr>\n",
       "    <tr>\n",
       "      <th>2</th>\n",
       "      <td>26898</td>\n",
       "      <td>4377769.44</td>\n",
       "      <td>4404044.84</td>\n",
       "      <td>345338</td>\n",
       "      <td>709770</td>\n",
       "      <td>23950</td>\n",
       "    </tr>\n",
       "    <tr>\n",
       "      <th>3</th>\n",
       "      <td>34010</td>\n",
       "      <td>5582415.66</td>\n",
       "      <td>5614200.76</td>\n",
       "      <td>437938</td>\n",
       "      <td>895118</td>\n",
       "      <td>30306</td>\n",
       "    </tr>\n",
       "    <tr>\n",
       "      <th>4</th>\n",
       "      <td>41116</td>\n",
       "      <td>6735342.04</td>\n",
       "      <td>6781340.48</td>\n",
       "      <td>524518</td>\n",
       "      <td>1088372</td>\n",
       "      <td>36558</td>\n",
       "    </tr>\n",
       "    <tr>\n",
       "      <th>5</th>\n",
       "      <td>37334</td>\n",
       "      <td>6270250.26</td>\n",
       "      <td>6305213.50</td>\n",
       "      <td>477560</td>\n",
       "      <td>975798</td>\n",
       "      <td>33132</td>\n",
       "    </tr>\n",
       "    <tr>\n",
       "      <th>6</th>\n",
       "      <td>30506</td>\n",
       "      <td>5124051.22</td>\n",
       "      <td>5155604.52</td>\n",
       "      <td>391056</td>\n",
       "      <td>804872</td>\n",
       "      <td>27108</td>\n",
       "    </tr>\n",
       "    <tr>\n",
       "      <th>7</th>\n",
       "      <td>32144</td>\n",
       "      <td>5265079.12</td>\n",
       "      <td>5295551.52</td>\n",
       "      <td>412338</td>\n",
       "      <td>834698</td>\n",
       "      <td>28586</td>\n",
       "    </tr>\n",
       "    <tr>\n",
       "      <th>8</th>\n",
       "      <td>26896</td>\n",
       "      <td>4460690.84</td>\n",
       "      <td>4488935.76</td>\n",
       "      <td>344578</td>\n",
       "      <td>707714</td>\n",
       "      <td>23922</td>\n",
       "    </tr>\n",
       "    <tr>\n",
       "      <th>9</th>\n",
       "      <td>26218</td>\n",
       "      <td>4169984.18</td>\n",
       "      <td>4195120.26</td>\n",
       "      <td>337026</td>\n",
       "      <td>683396</td>\n",
       "      <td>23242</td>\n",
       "    </tr>\n",
       "    <tr>\n",
       "      <th>10</th>\n",
       "      <td>45406</td>\n",
       "      <td>7431109.66</td>\n",
       "      <td>7473453.76</td>\n",
       "      <td>581300</td>\n",
       "      <td>1196874</td>\n",
       "      <td>40564</td>\n",
       "    </tr>\n",
       "    <tr>\n",
       "      <th>11</th>\n",
       "      <td>39596</td>\n",
       "      <td>6361201.36</td>\n",
       "      <td>6399206.40</td>\n",
       "      <td>509730</td>\n",
       "      <td>1036462</td>\n",
       "      <td>35146</td>\n",
       "    </tr>\n",
       "    <tr>\n",
       "      <th>12</th>\n",
       "      <td>56228</td>\n",
       "      <td>9176830.82</td>\n",
       "      <td>9226886.68</td>\n",
       "      <td>719956</td>\n",
       "      <td>1466164</td>\n",
       "      <td>49968</td>\n",
       "    </tr>\n",
       "  </tbody>\n",
       "</table>\n",
       "</div>"
      ],
      "text/plain": [
       "       Quantity Ordered  Price Each       Sales    Hour   Minute  Count\n",
       "Month                                                                  \n",
       "1                 21806  3623536.76  3644513.46  278970   564880  19418\n",
       "2                 26898  4377769.44  4404044.84  345338   709770  23950\n",
       "3                 34010  5582415.66  5614200.76  437938   895118  30306\n",
       "4                 41116  6735342.04  6781340.48  524518  1088372  36558\n",
       "5                 37334  6270250.26  6305213.50  477560   975798  33132\n",
       "6                 30506  5124051.22  5155604.52  391056   804872  27108\n",
       "7                 32144  5265079.12  5295551.52  412338   834698  28586\n",
       "8                 26896  4460690.84  4488935.76  344578   707714  23922\n",
       "9                 26218  4169984.18  4195120.26  337026   683396  23242\n",
       "10                45406  7431109.66  7473453.76  581300  1196874  40564\n",
       "11                39596  6361201.36  6399206.40  509730  1036462  35146\n",
       "12                56228  9176830.82  9226886.68  719956  1466164  49968"
      ]
     },
     "execution_count": 143,
     "metadata": {},
     "output_type": "execute_result"
    }
   ],
   "source": [
    "sales_data.groupby(['Month']).sum()"
   ]
  },
  {
   "cell_type": "code",
   "execution_count": 144,
   "metadata": {},
   "outputs": [
    {
     "name": "stdout",
     "output_type": "stream",
     "text": [
      "range(1, 13)\n"
     ]
    },
    {
     "data": {
      "image/png": "[encoded data removed]",
      "text/plain": [
       "<Figure size 648x360 with 1 Axes>"
      ]
     },
     "metadata": {
      "needs_background": "light"
     },
     "output_type": "display_data"
    }
   ],
   "source": [
    "import matplotlib.pyplot as plt\n",
    "\n",
    "months = range(1,13)\n",
    "print(months)\n",
    "\n",
    "plt.bar(months,sales_data.groupby(['Month']).sum()['Sales'])\n",
    "plt.xticks(months)\n",
    "plt.ylabel('----------------------------Sales ($)----------------------------')\n",
    "plt.xlabel('----------------------------------------------------Month------------------------------------------------------')\n",
    "plt.show()"
   ]
  },
  {
   "cell_type": "code",
   "execution_count": 145,
   "metadata": {},
   "outputs": [],
   "source": [
    "## As we can see from graph in decembers customers have bought a lot of product!!"
   ]
  },
  {
   "cell_type": "markdown",
   "metadata": {},
   "source": [
    "#### Q2: Name the city where greatest number of products were sold ?"
   ]
  },
  {
   "cell_type": "code",
   "execution_count": 146,
   "metadata": {},
   "outputs": [
    {
     "data": {
      "text/html": [
       "<div>\n",
       "<style scoped>\n",
       "    .dataframe tbody tr th:only-of-type {\n",
       "        vertical-align: middle;\n",
       "    }\n",
       "\n",
       "    .dataframe tbody tr th {\n",
       "        vertical-align: top;\n",
       "    }\n",
       "\n",
       "    .dataframe thead th {\n",
       "        text-align: right;\n",
       "    }\n",
       "</style>\n",
       "<table border=\"1\" class=\"dataframe\">\n",
       "  <thead>\n",
       "    <tr style=\"text-align: right;\">\n",
       "      <th></th>\n",
       "      <th>Quantity Ordered</th>\n",
       "      <th>Price Each</th>\n",
       "      <th>Month</th>\n",
       "      <th>Sales</th>\n",
       "      <th>Hour</th>\n",
       "      <th>Minute</th>\n",
       "      <th>Count</th>\n",
       "    </tr>\n",
       "    <tr>\n",
       "      <th>City</th>\n",
       "      <th></th>\n",
       "      <th></th>\n",
       "      <th></th>\n",
       "      <th></th>\n",
       "      <th></th>\n",
       "      <th></th>\n",
       "      <th></th>\n",
       "    </tr>\n",
       "  </thead>\n",
       "  <tbody>\n",
       "    <tr>\n",
       "      <th>Atlanta  (GA)</th>\n",
       "      <td>33204</td>\n",
       "      <td>5559816.40</td>\n",
       "      <td>209588</td>\n",
       "      <td>5590997.16</td>\n",
       "      <td>428528</td>\n",
       "      <td>885864</td>\n",
       "      <td>29762</td>\n",
       "    </tr>\n",
       "    <tr>\n",
       "      <th>Austin  (TX)</th>\n",
       "      <td>22306</td>\n",
       "      <td>3619747.22</td>\n",
       "      <td>139658</td>\n",
       "      <td>3639163.50</td>\n",
       "      <td>283892</td>\n",
       "      <td>578120</td>\n",
       "      <td>19810</td>\n",
       "    </tr>\n",
       "    <tr>\n",
       "      <th>Boston  (MA)</th>\n",
       "      <td>45056</td>\n",
       "      <td>7274819.54</td>\n",
       "      <td>282224</td>\n",
       "      <td>7323284.02</td>\n",
       "      <td>576450</td>\n",
       "      <td>1180884</td>\n",
       "      <td>39868</td>\n",
       "    </tr>\n",
       "    <tr>\n",
       "      <th>Dallas  (TX)</th>\n",
       "      <td>33460</td>\n",
       "      <td>5505255.64</td>\n",
       "      <td>209240</td>\n",
       "      <td>5535950.80</td>\n",
       "      <td>428780</td>\n",
       "      <td>870310</td>\n",
       "      <td>29640</td>\n",
       "    </tr>\n",
       "    <tr>\n",
       "      <th>Los Angeles  (CA)</th>\n",
       "      <td>66578</td>\n",
       "      <td>10842870.46</td>\n",
       "      <td>416650</td>\n",
       "      <td>10905141.60</td>\n",
       "      <td>854888</td>\n",
       "      <td>1733276</td>\n",
       "      <td>59210</td>\n",
       "    </tr>\n",
       "    <tr>\n",
       "      <th>New York City  (NY)</th>\n",
       "      <td>55864</td>\n",
       "      <td>9270741.66</td>\n",
       "      <td>351482</td>\n",
       "      <td>9328634.86</td>\n",
       "      <td>715392</td>\n",
       "      <td>1467196</td>\n",
       "      <td>49752</td>\n",
       "    </tr>\n",
       "    <tr>\n",
       "      <th>Portland  (ME)</th>\n",
       "      <td>5500</td>\n",
       "      <td>894378.50</td>\n",
       "      <td>34288</td>\n",
       "      <td>899516.54</td>\n",
       "      <td>70422</td>\n",
       "      <td>145712</td>\n",
       "      <td>4910</td>\n",
       "    </tr>\n",
       "    <tr>\n",
       "      <th>Portland  (OR)</th>\n",
       "      <td>22606</td>\n",
       "      <td>3721116.44</td>\n",
       "      <td>141242</td>\n",
       "      <td>3741464.68</td>\n",
       "      <td>288842</td>\n",
       "      <td>591066</td>\n",
       "      <td>20020</td>\n",
       "    </tr>\n",
       "    <tr>\n",
       "      <th>San Francisco  (CA)</th>\n",
       "      <td>100478</td>\n",
       "      <td>16422923.48</td>\n",
       "      <td>631040</td>\n",
       "      <td>16524407.82</td>\n",
       "      <td>1286530</td>\n",
       "      <td>2638954</td>\n",
       "      <td>89464</td>\n",
       "    </tr>\n",
       "    <tr>\n",
       "      <th>Seattle  (WA)</th>\n",
       "      <td>33106</td>\n",
       "      <td>5466592.02</td>\n",
       "      <td>209882</td>\n",
       "      <td>5495510.96</td>\n",
       "      <td>426584</td>\n",
       "      <td>872736</td>\n",
       "      <td>29464</td>\n",
       "    </tr>\n",
       "  </tbody>\n",
       "</table>\n",
       "</div>"
      ],
      "text/plain": [
       "                     Quantity Ordered   Price Each   Month        Sales  \\\n",
       "City                                                                      \n",
       "Atlanta  (GA)                   33204   5559816.40  209588   5590997.16   \n",
       "Austin  (TX)                    22306   3619747.22  139658   3639163.50   \n",
       "Boston  (MA)                    45056   7274819.54  282224   7323284.02   \n",
       "Dallas  (TX)                    33460   5505255.64  209240   5535950.80   \n",
       "Los Angeles  (CA)               66578  10842870.46  416650  10905141.60   \n",
       "New York City  (NY)             55864   9270741.66  351482   9328634.86   \n",
       "Portland  (ME)                   5500    894378.50   34288    899516.54   \n",
       "Portland  (OR)                  22606   3721116.44  141242   3741464.68   \n",
       "San Francisco  (CA)            100478  16422923.48  631040  16524407.82   \n",
       "Seattle  (WA)                   33106   5466592.02  209882   5495510.96   \n",
       "\n",
       "                        Hour   Minute  Count  \n",
       "City                                          \n",
       "Atlanta  (GA)         428528   885864  29762  \n",
       "Austin  (TX)          283892   578120  19810  \n",
       "Boston  (MA)          576450  1180884  39868  \n",
       "Dallas  (TX)          428780   870310  29640  \n",
       "Los Angeles  (CA)     854888  1733276  59210  \n",
       "New York City  (NY)   715392  1467196  49752  \n",
       "Portland  (ME)         70422   145712   4910  \n",
       "Portland  (OR)        288842   591066  20020  \n",
       "San Francisco  (CA)  1286530  2638954  89464  \n",
       "Seattle  (WA)         426584   872736  29464  "
      ]
     },
     "execution_count": 146,
     "metadata": {},
     "output_type": "execute_result"
    }
   ],
   "source": [
    "sales_data.groupby(['City']).sum()"
   ]
  },
  {
   "cell_type": "code",
   "execution_count": 147,
   "metadata": {},
   "outputs": [
    {
     "data": {
      "image/png": "[encoded data removed]",
      "text/plain": [
       "<Figure size 648x360 with 1 Axes>"
      ]
     },
     "metadata": {
      "needs_background": "light"
     },
     "output_type": "display_data"
    }
   ],
   "source": [
    "import matplotlib.pyplot as plt\n",
    "\n",
    "keys = [city for city, df in sales_data.groupby(['City'])]\n",
    "\n",
    "plt.bar(keys,sales_data.groupby(['City']).sum()['Sales'])\n",
    "plt.ylabel('----------------------------Sales ($)----------------------------')\n",
    "plt.xlabel('----------------------------------------------------City------------------------------------------------------')\n",
    "plt.xticks(keys, rotation='vertical', size=8)\n",
    "plt.show()"
   ]
  },
  {
   "cell_type": "code",
   "execution_count": 148,
   "metadata": {},
   "outputs": [],
   "source": [
    "## As we can see from graph San Francisco was the place where customers bought greatest"
   ]
  },
  {
   "cell_type": "markdown",
   "metadata": {},
   "source": [
    "#### Q3: list the products that were sold most??"
   ]
  },
  {
   "cell_type": "code",
   "execution_count": 149,
   "metadata": {},
   "outputs": [
    {
     "data": {
      "text/html": [
       "<div>\n",
       "<style scoped>\n",
       "    .dataframe tbody tr th:only-of-type {\n",
       "        vertical-align: middle;\n",
       "    }\n",
       "\n",
       "    .dataframe tbody tr th {\n",
       "        vertical-align: top;\n",
       "    }\n",
       "\n",
       "    .dataframe thead th {\n",
       "        text-align: right;\n",
       "    }\n",
       "</style>\n",
       "<table border=\"1\" class=\"dataframe\">\n",
       "  <thead>\n",
       "    <tr style=\"text-align: right;\">\n",
       "      <th></th>\n",
       "      <th>Quantity Ordered</th>\n",
       "      <th>Price Each</th>\n",
       "      <th>Month</th>\n",
       "      <th>Sales</th>\n",
       "      <th>Hour</th>\n",
       "      <th>Minute</th>\n",
       "      <th>Count</th>\n",
       "    </tr>\n",
       "    <tr>\n",
       "      <th>Product</th>\n",
       "      <th></th>\n",
       "      <th></th>\n",
       "      <th></th>\n",
       "      <th></th>\n",
       "      <th></th>\n",
       "      <th></th>\n",
       "      <th></th>\n",
       "    </tr>\n",
       "  </thead>\n",
       "  <tbody>\n",
       "    <tr>\n",
       "      <th>20in Monitor</th>\n",
       "      <td>8258</td>\n",
       "      <td>902137.98</td>\n",
       "      <td>58672</td>\n",
       "      <td>908297.42</td>\n",
       "      <td>117528</td>\n",
       "      <td>244504</td>\n",
       "      <td>8202</td>\n",
       "    </tr>\n",
       "    <tr>\n",
       "      <th>27in 4K Gaming Monitor</th>\n",
       "      <td>12488</td>\n",
       "      <td>4859275.40</td>\n",
       "      <td>88880</td>\n",
       "      <td>4870195.12</td>\n",
       "      <td>181832</td>\n",
       "      <td>368662</td>\n",
       "      <td>12460</td>\n",
       "    </tr>\n",
       "    <tr>\n",
       "      <th>27in FHD Monitor</th>\n",
       "      <td>15100</td>\n",
       "      <td>2251949.86</td>\n",
       "      <td>105116</td>\n",
       "      <td>2264849.00</td>\n",
       "      <td>215080</td>\n",
       "      <td>439896</td>\n",
       "      <td>15014</td>\n",
       "    </tr>\n",
       "    <tr>\n",
       "      <th>34in Ultrawide Monitor</th>\n",
       "      <td>12398</td>\n",
       "      <td>4697436.38</td>\n",
       "      <td>86608</td>\n",
       "      <td>4711116.02</td>\n",
       "      <td>178152</td>\n",
       "      <td>366960</td>\n",
       "      <td>12362</td>\n",
       "    </tr>\n",
       "    <tr>\n",
       "      <th>AA Batteries (4-pack)</th>\n",
       "      <td>55270</td>\n",
       "      <td>158031.36</td>\n",
       "      <td>291116</td>\n",
       "      <td>212236.80</td>\n",
       "      <td>596684</td>\n",
       "      <td>1218078</td>\n",
       "      <td>41154</td>\n",
       "    </tr>\n",
       "    <tr>\n",
       "      <th>AAA Batteries (4-pack)</th>\n",
       "      <td>62034</td>\n",
       "      <td>123433.18</td>\n",
       "      <td>292740</td>\n",
       "      <td>185481.66</td>\n",
       "      <td>594664</td>\n",
       "      <td>1224226</td>\n",
       "      <td>41282</td>\n",
       "    </tr>\n",
       "    <tr>\n",
       "      <th>Apple Airpods Headphones</th>\n",
       "      <td>31322</td>\n",
       "      <td>4664700.00</td>\n",
       "      <td>218954</td>\n",
       "      <td>4698300.00</td>\n",
       "      <td>446608</td>\n",
       "      <td>911140</td>\n",
       "      <td>31098</td>\n",
       "    </tr>\n",
       "    <tr>\n",
       "      <th>Bose SoundSport Headphones</th>\n",
       "      <td>26914</td>\n",
       "      <td>2664733.50</td>\n",
       "      <td>188226</td>\n",
       "      <td>2691130.86</td>\n",
       "      <td>384890</td>\n",
       "      <td>785206</td>\n",
       "      <td>26650</td>\n",
       "    </tr>\n",
       "    <tr>\n",
       "      <th>Flatscreen TV</th>\n",
       "      <td>9638</td>\n",
       "      <td>2880000.00</td>\n",
       "      <td>68448</td>\n",
       "      <td>2891400.00</td>\n",
       "      <td>137630</td>\n",
       "      <td>285578</td>\n",
       "      <td>9600</td>\n",
       "    </tr>\n",
       "    <tr>\n",
       "      <th>Google Phone</th>\n",
       "      <td>11064</td>\n",
       "      <td>6630000.00</td>\n",
       "      <td>76610</td>\n",
       "      <td>6638400.00</td>\n",
       "      <td>158958</td>\n",
       "      <td>325546</td>\n",
       "      <td>11050</td>\n",
       "    </tr>\n",
       "    <tr>\n",
       "      <th>LG Dryer</th>\n",
       "      <td>1292</td>\n",
       "      <td>775200.00</td>\n",
       "      <td>8766</td>\n",
       "      <td>775200.00</td>\n",
       "      <td>18652</td>\n",
       "      <td>38086</td>\n",
       "      <td>1292</td>\n",
       "    </tr>\n",
       "    <tr>\n",
       "      <th>LG Washing Machine</th>\n",
       "      <td>1332</td>\n",
       "      <td>799200.00</td>\n",
       "      <td>9046</td>\n",
       "      <td>799200.00</td>\n",
       "      <td>19570</td>\n",
       "      <td>38924</td>\n",
       "      <td>1332</td>\n",
       "    </tr>\n",
       "    <tr>\n",
       "      <th>Lightning Charging Cable</th>\n",
       "      <td>46434</td>\n",
       "      <td>647574.20</td>\n",
       "      <td>306184</td>\n",
       "      <td>694188.30</td>\n",
       "      <td>625058</td>\n",
       "      <td>1268884</td>\n",
       "      <td>43316</td>\n",
       "    </tr>\n",
       "    <tr>\n",
       "      <th>Macbook Pro Laptop</th>\n",
       "      <td>9456</td>\n",
       "      <td>16061600.00</td>\n",
       "      <td>67096</td>\n",
       "      <td>16075200.00</td>\n",
       "      <td>136522</td>\n",
       "      <td>275148</td>\n",
       "      <td>9448</td>\n",
       "    </tr>\n",
       "    <tr>\n",
       "      <th>ThinkPad Laptop</th>\n",
       "      <td>8260</td>\n",
       "      <td>8255917.44</td>\n",
       "      <td>57900</td>\n",
       "      <td>8259917.40</td>\n",
       "      <td>119492</td>\n",
       "      <td>243016</td>\n",
       "      <td>8256</td>\n",
       "    </tr>\n",
       "    <tr>\n",
       "      <th>USB-C Charging Cable</th>\n",
       "      <td>47950</td>\n",
       "      <td>523481.70</td>\n",
       "      <td>309638</td>\n",
       "      <td>573002.50</td>\n",
       "      <td>629290</td>\n",
       "      <td>1295172</td>\n",
       "      <td>43806</td>\n",
       "    </tr>\n",
       "    <tr>\n",
       "      <th>Vareebadd Phone</th>\n",
       "      <td>4136</td>\n",
       "      <td>1652000.00</td>\n",
       "      <td>28618</td>\n",
       "      <td>1654400.00</td>\n",
       "      <td>58944</td>\n",
       "      <td>123670</td>\n",
       "      <td>4130</td>\n",
       "    </tr>\n",
       "    <tr>\n",
       "      <th>Wired Headphones</th>\n",
       "      <td>41114</td>\n",
       "      <td>452790.36</td>\n",
       "      <td>266794</td>\n",
       "      <td>492956.86</td>\n",
       "      <td>543440</td>\n",
       "      <td>1108046</td>\n",
       "      <td>37764</td>\n",
       "    </tr>\n",
       "    <tr>\n",
       "      <th>iPhone</th>\n",
       "      <td>13698</td>\n",
       "      <td>9578800.00</td>\n",
       "      <td>95882</td>\n",
       "      <td>9588600.00</td>\n",
       "      <td>197314</td>\n",
       "      <td>403376</td>\n",
       "      <td>13684</td>\n",
       "    </tr>\n",
       "  </tbody>\n",
       "</table>\n",
       "</div>"
      ],
      "text/plain": [
       "                            Quantity Ordered   Price Each   Month  \\\n",
       "Product                                                             \n",
       "20in Monitor                            8258    902137.98   58672   \n",
       "27in 4K Gaming Monitor                 12488   4859275.40   88880   \n",
       "27in FHD Monitor                       15100   2251949.86  105116   \n",
       "34in Ultrawide Monitor                 12398   4697436.38   86608   \n",
       "AA Batteries (4-pack)                  55270    158031.36  291116   \n",
       "AAA Batteries (4-pack)                 62034    123433.18  292740   \n",
       "Apple Airpods Headphones               31322   4664700.00  218954   \n",
       "Bose SoundSport Headphones             26914   2664733.50  188226   \n",
       "Flatscreen TV                           9638   2880000.00   68448   \n",
       "Google Phone                           11064   6630000.00   76610   \n",
       "LG Dryer                                1292    775200.00    8766   \n",
       "LG Washing Machine                      1332    799200.00    9046   \n",
       "Lightning Charging Cable               46434    647574.20  306184   \n",
       "Macbook Pro Laptop                      9456  16061600.00   67096   \n",
       "ThinkPad Laptop                         8260   8255917.44   57900   \n",
       "USB-C Charging Cable                   47950    523481.70  309638   \n",
       "Vareebadd Phone                         4136   1652000.00   28618   \n",
       "Wired Headphones                       41114    452790.36  266794   \n",
       "iPhone                                 13698   9578800.00   95882   \n",
       "\n",
       "                                  Sales    Hour   Minute  Count  \n",
       "Product                                                          \n",
       "20in Monitor                  908297.42  117528   244504   8202  \n",
       "27in 4K Gaming Monitor       4870195.12  181832   368662  12460  \n",
       "27in FHD Monitor             2264849.00  215080   439896  15014  \n",
       "34in Ultrawide Monitor       4711116.02  178152   366960  12362  \n",
       "AA Batteries (4-pack)         212236.80  596684  1218078  41154  \n",
       "AAA Batteries (4-pack)        185481.66  594664  1224226  41282  \n",
       "Apple Airpods Headphones     4698300.00  446608   911140  31098  \n",
       "Bose SoundSport Headphones   2691130.86  384890   785206  26650  \n",
       "Flatscreen TV                2891400.00  137630   285578   9600  \n",
       "Google Phone                 6638400.00  158958   325546  11050  \n",
       "LG Dryer                      775200.00   18652    38086   1292  \n",
       "LG Washing Machine            799200.00   19570    38924   1332  \n",
       "Lightning Charging Cable      694188.30  625058  1268884  43316  \n",
       "Macbook Pro Laptop          16075200.00  136522   275148   9448  \n",
       "ThinkPad Laptop              8259917.40  119492   243016   8256  \n",
       "USB-C Charging Cable          573002.50  629290  1295172  43806  \n",
       "Vareebadd Phone              1654400.00   58944   123670   4130  \n",
       "Wired Headphones              492956.86  543440  1108046  37764  \n",
       "iPhone                       9588600.00  197314   403376  13684  "
      ]
     },
     "execution_count": 149,
     "metadata": {},
     "output_type": "execute_result"
    }
   ],
   "source": [
    "sales_data.groupby(['Product']).sum()"
   ]
  },
  {
   "cell_type": "code",
   "execution_count": 150,
   "metadata": {},
   "outputs": [
    {
     "data": {
      "image/png": "[encoded data removed]",
      "text/plain": [
       "<Figure size 648x360 with 1 Axes>"
      ]
     },
     "metadata": {
      "needs_background": "light"
     },
     "output_type": "display_data"
    }
   ],
   "source": [
    "import matplotlib.pyplot as plt\n",
    "\n",
    "keys = [Product for Product, df in sales_data.groupby(['Product'])]\n",
    "\n",
    "plt.bar(keys,sales_data.groupby(['Product']).sum()['Sales'])\n",
    "plt.ylabel('------------------------Sales ($)---------------------------')\n",
    "plt.xlabel('-------------------------------------------------Product Name--------------------------------------------')\n",
    "plt.xticks(keys, rotation='vertical', size=12)\n",
    "plt.show()"
   ]
  },
  {
   "cell_type": "code",
   "execution_count": 151,
   "metadata": {},
   "outputs": [],
   "source": [
    "## As we can see from graph Mackbook Pro Laptop was most sold product of 2019"
   ]
  },
  {
   "cell_type": "markdown",
   "metadata": {},
   "source": [
    "#### Q4: what should be the appropriate time for displaying advertisement which would attract more customer???"
   ]
  },
  {
   "cell_type": "code",
   "execution_count": 152,
   "metadata": {},
   "outputs": [
    {
     "data": {
      "image/png": "[encoded data removed]",
      "text/plain": [
       "<Figure size 648x360 with 1 Axes>"
      ]
     },
     "metadata": {
      "needs_background": "light"
     },
     "output_type": "display_data"
    }
   ],
   "source": [
    "keys = [pair for pair, df in sales_data.groupby(['Hour'])]\n",
    "\n",
    "plt.plot(keys, sales_data.groupby(['Hour']).count()['Count'])\n",
    "plt.xticks(keys)\n",
    "plt.grid()\n",
    "plt.show()"
   ]
  },
  {
   "cell_type": "code",
   "execution_count": 153,
   "metadata": {},
   "outputs": [],
   "source": [
    "#I like to go for shopping at 6pm evening"
   ]
  },
  {
   "cell_type": "code",
   "execution_count": null,
   "metadata": {},
   "outputs": [],
   "source": []
  },
  {
   "cell_type": "markdown",
   "metadata": {},
   "source": [
    "#### Q5: which products are sold in groups more oftenly??"
   ]
  },
  {
   "cell_type": "code",
   "execution_count": 154,
   "metadata": {},
   "outputs": [],
   "source": [
    "df = sales_data[sales_data['Order ID'].duplicated(keep=False)]\\\n",
    "\n",
    "df['Grouped'] = df.groupby('Order ID')['Product'].transform(lambda x: ','.join(x))\n",
    "df2 = df[['Order ID', 'Grouped']].drop_duplicates()"
   ]
  },
  {
   "cell_type": "code",
   "execution_count": 155,
   "metadata": {},
   "outputs": [
    {
     "name": "stdout",
     "output_type": "stream",
     "text": [
      "('USB-C Charging Cable', 'USB-C Charging Cable') 22095\n",
      "('Lightning Charging Cable', 'Lightning Charging Cable') 21874\n",
      "('AAA Batteries (4-pack)', 'AAA Batteries (4-pack)') 20833\n",
      "('AA Batteries (4-pack)', 'AA Batteries (4-pack)') 20717\n",
      "('Wired Headphones', 'Wired Headphones') 19022\n",
      "('Apple Airpods Headphones', 'Apple Airpods Headphones') 15645\n",
      "('Bose SoundSport Headphones', 'Bose SoundSport Headphones') 13433\n",
      "('27in FHD Monitor', '27in FHD Monitor') 7543\n",
      "('iPhone', 'iPhone') 6850\n",
      "('27in 4K Gaming Monitor', '27in 4K Gaming Monitor') 6250\n"
     ]
    }
   ],
   "source": [
    "from itertools import combinations\n",
    "from collections import Counter\n",
    "\n",
    "count = Counter()\n",
    "\n",
    "for row in df2['Grouped']:\n",
    "    row_list = row.split(',')\n",
    "    count.update(Counter(combinations(row_list, 2)))\n",
    "\n",
    "for key,value in count.most_common(10):\n",
    "    print(key, value)"
   ]
  },
  {
   "cell_type": "code",
   "execution_count": 156,
   "metadata": {},
   "outputs": [],
   "source": [
    "## As we can see from graph USB-C Charging Cables are most oftenly sold in group"
   ]
  },
  {
   "cell_type": "markdown",
   "metadata": {},
   "source": [
    "Let us save and upload our work to Jovian before continuing."
   ]
  },
  {
   "cell_type": "code",
   "execution_count": 157,
   "metadata": {},
   "outputs": [],
   "source": [
    "import jovian"
   ]
  },
  {
   "cell_type": "code",
   "execution_count": 158,
   "metadata": {},
   "outputs": [
    {
     "data": {
      "application/javascript": [
       "window.require && require([\"base/js/namespace\"],function(Jupyter){Jupyter.notebook.save_checkpoint()})"
      ],
      "text/plain": [
       "<IPython.core.display.Javascript object>"
      ]
     },
     "metadata": {},
     "output_type": "display_data"
    },
    {
     "name": "stdout",
     "output_type": "stream",
     "text": [
      "[jovian] Updating notebook \"mohammadowaisprofessional/sales-data-analysis\" on https://jovian.ai\u001b[0m\n",
      "[jovian] Committed successfully! https://jovian.ai/mohammadowaisprofessional/sales-data-analysis\u001b[0m\n"
     ]
    },
    {
     "data": {
      "text/plain": [
       "'https://jovian.ai/mohammadowaisprofessional/sales-data-analysis'"
      ]
     },
     "execution_count": 158,
     "metadata": {},
     "output_type": "execute_result"
    }
   ],
   "source": [
    "jovian.commit()"
   ]
  },
  {
   "cell_type": "markdown",
   "metadata": {},
   "source": [
    "## Inferences and Conclusion\n",
    "\n",
    "**TODO** - Through all data analysis I did above I learned a first hand experience of dealing with data, How to make data driven decisions with the help of data and try to be unbiased as far as possible throughout data and that's it !!!\n",
    "\n",
    "https://docs.python.org/3/library/itertools.html"
   ]
  },
  {
   "cell_type": "code",
   "execution_count": 159,
   "metadata": {},
   "outputs": [],
   "source": [
    "import jovian"
   ]
  },
  {
   "cell_type": "code",
   "execution_count": null,
   "metadata": {},
   "outputs": [
    {
     "data": {
      "application/javascript": [
       "window.require && require([\"base/js/namespace\"],function(Jupyter){Jupyter.notebook.save_checkpoint()})"
      ],
      "text/plain": [
       "<IPython.core.display.Javascript object>"
      ]
     },
     "metadata": {},
     "output_type": "display_data"
    }
   ],
   "source": [
    "jovian.commit()"
   ]
  },
  {
   "cell_type": "markdown",
   "metadata": {},
   "source": [
    "## References and Future Work\n",
    "\n",
    "**TODO** - I found sales data from github which was really huge and dealing with huge data increase your experience with dealing problems\n",
    "\n",
    "https://docs.python.org/3/library/itertools.html"
   ]
  },
  {
   "cell_type": "code",
   "execution_count": null,
   "metadata": {},
   "outputs": [],
   "source": [
    "import jovian"
   ]
  },
  {
   "cell_type": "code",
   "execution_count": null,
   "metadata": {
    "scrolled": true
   },
   "outputs": [],
   "source": [
    "jovian.commit()"
   ]
  },
  {
   "cell_type": "code",
   "execution_count": null,
   "metadata": {},
   "outputs": [],
   "source": []
  }
 ],
 "metadata": {
  "kernelspec": {
   "display_name": "Python 3 (ipykernel)",
   "language": "python",
   "name": "python3"
  },
  "language_info": {
   "codemirror_mode": {
    "name": "ipython",
    "version": 3
   },
   "file_extension": ".py",
   "mimetype": "text/x-python",
   "name": "python",
   "nbconvert_exporter": "python",
   "pygments_lexer": "ipython3",
   "version": "3.8.10"
  }
 },
 "nbformat": 4,
 "nbformat_minor": 4
}
